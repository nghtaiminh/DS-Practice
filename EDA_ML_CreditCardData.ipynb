{
 "cells": [
  {
   "cell_type": "markdown",
   "metadata": {
    "id": "xGRqOOpyxNjW"
   },
   "source": [
    "**Task 1**: You are required do a proper analysis of the whole data, plot all relevant plots, make note to all observations\n",
    "\n",
    "**Task 2**: Let sample 100 transactions (denoted by S) from whole data (denoted by D), for every transaction in S, print 10 transactions from D which have least values of `similarity`\n",
    "\n",
    "The similarity between any two vectors is defined as\n",
    "$\\text{similarity}(v_i,v_j) = \\text{cos}^{-1} [ \\frac{(v_i \\cdot v_j)}{length(v_i) \\times length(v_j)} ]$\n",
    "\n",
    "1. $v_i$ represents a vector i.e. a row in your data.\n",
    "2. $\\text{similarity}(i,j)$ is just a function you can think it like $f(x,y)$\n",
    "3. $\\text{length}(v_i)$: length of the vector $v_i$\n",
    "4. $i \\cdot j$ is the dot product between the vectors $v_i$, $v_j$ \n",
    "\n",
    "**Task 3**: Apply 5 different ML algorithms to build classification models.\n",
    "\n",
    "\n",
    "\n"
   ]
  },
  {
   "cell_type": "markdown",
   "metadata": {
    "id": "_KO4JDQAxNjd"
   },
   "source": [
    "## Task 1 : Performing EDA(Exploratory Data Analysis on credit card data)"
   ]
  },
  {
   "cell_type": "markdown",
   "metadata": {
    "id": "e6K_EOeKxNje"
   },
   "source": [
    "### About the data:\n",
    "\n",
    "Features V1, V2, ... V28 are the principal components obtained with PCA, the only features which have not been transformed with PCA are 'Time' and 'Amount'. \n",
    "\n",
    "**Feature 'Time'** contains the seconds elapsed between each transaction and the first transaction in the dataset. \n",
    "\n",
    "The **Feature 'Amount'** is the transaction Amount, this feature can be used for example-dependant cost-senstive learning. \n",
    "\n",
    "**Feature 'Class'** is the response variable and it takes value 1 in case of fraud and 0 otherwise."
   ]
  },
  {
   "cell_type": "markdown",
   "metadata": {
    "id": "gec7VRa5xNje"
   },
   "source": [
    "\n",
    "\n",
    "EDA is performed only on Time and Amount Feature."
   ]
  },
  {
   "cell_type": "markdown",
   "metadata": {
    "id": "PpSF2yiOzsLP"
   },
   "source": [
    "#### Find and load the dataset from github"
   ]
  },
  {
   "cell_type": "code",
   "execution_count": 1,
   "metadata": {
    "collapsed": true,
    "id": "DkBuS71axNjf"
   },
   "outputs": [],
   "source": [
    "import pandas as pd\n",
    "import numpy as np\n",
    "import warnings\n",
    "warnings.filterwarnings(\"ignore\")"
   ]
  },
  {
   "cell_type": "code",
   "execution_count": 2,
   "metadata": {
    "colab": {
     "base_uri": "https://localhost:8080/",
     "height": 426
    },
    "collapsed": true,
    "id": "9_33lyRXxNjf",
    "outputId": "1f9c1b8b-9265-467d-e42a-0e2a6a859c95"
   },
   "outputs": [
    {
     "data": {
      "text/html": [
       "<div>\n",
       "<style scoped>\n",
       "    .dataframe tbody tr th:only-of-type {\n",
       "        vertical-align: middle;\n",
       "    }\n",
       "\n",
       "    .dataframe tbody tr th {\n",
       "        vertical-align: top;\n",
       "    }\n",
       "\n",
       "    .dataframe thead th {\n",
       "        text-align: right;\n",
       "    }\n",
       "</style>\n",
       "<table border=\"1\" class=\"dataframe\">\n",
       "  <thead>\n",
       "    <tr style=\"text-align: right;\">\n",
       "      <th></th>\n",
       "      <th>Time</th>\n",
       "      <th>V1</th>\n",
       "      <th>V2</th>\n",
       "      <th>V3</th>\n",
       "      <th>V4</th>\n",
       "      <th>V5</th>\n",
       "      <th>V6</th>\n",
       "      <th>V7</th>\n",
       "      <th>V8</th>\n",
       "      <th>V9</th>\n",
       "      <th>V10</th>\n",
       "      <th>V11</th>\n",
       "      <th>V12</th>\n",
       "      <th>V13</th>\n",
       "      <th>V14</th>\n",
       "      <th>V15</th>\n",
       "      <th>V16</th>\n",
       "      <th>V17</th>\n",
       "      <th>V18</th>\n",
       "      <th>V19</th>\n",
       "      <th>V20</th>\n",
       "      <th>V21</th>\n",
       "      <th>V22</th>\n",
       "      <th>V23</th>\n",
       "      <th>V24</th>\n",
       "      <th>V25</th>\n",
       "      <th>V26</th>\n",
       "      <th>V27</th>\n",
       "      <th>V28</th>\n",
       "      <th>Amount</th>\n",
       "      <th>Class</th>\n",
       "    </tr>\n",
       "  </thead>\n",
       "  <tbody>\n",
       "    <tr>\n",
       "      <th>0</th>\n",
       "      <td>0.0</td>\n",
       "      <td>-1.359807</td>\n",
       "      <td>-0.072781</td>\n",
       "      <td>2.536347</td>\n",
       "      <td>1.378155</td>\n",
       "      <td>-0.338321</td>\n",
       "      <td>0.462388</td>\n",
       "      <td>0.239599</td>\n",
       "      <td>0.098698</td>\n",
       "      <td>0.363787</td>\n",
       "      <td>0.090794</td>\n",
       "      <td>-0.551600</td>\n",
       "      <td>-0.617801</td>\n",
       "      <td>-0.991390</td>\n",
       "      <td>-0.311169</td>\n",
       "      <td>1.468177</td>\n",
       "      <td>-0.470401</td>\n",
       "      <td>0.207971</td>\n",
       "      <td>0.025791</td>\n",
       "      <td>0.403993</td>\n",
       "      <td>0.251412</td>\n",
       "      <td>-0.018307</td>\n",
       "      <td>0.277838</td>\n",
       "      <td>-0.110474</td>\n",
       "      <td>0.066928</td>\n",
       "      <td>0.128539</td>\n",
       "      <td>-0.189115</td>\n",
       "      <td>0.133558</td>\n",
       "      <td>-0.021053</td>\n",
       "      <td>149.62</td>\n",
       "      <td>0</td>\n",
       "    </tr>\n",
       "    <tr>\n",
       "      <th>1</th>\n",
       "      <td>0.0</td>\n",
       "      <td>1.191857</td>\n",
       "      <td>0.266151</td>\n",
       "      <td>0.166480</td>\n",
       "      <td>0.448154</td>\n",
       "      <td>0.060018</td>\n",
       "      <td>-0.082361</td>\n",
       "      <td>-0.078803</td>\n",
       "      <td>0.085102</td>\n",
       "      <td>-0.255425</td>\n",
       "      <td>-0.166974</td>\n",
       "      <td>1.612727</td>\n",
       "      <td>1.065235</td>\n",
       "      <td>0.489095</td>\n",
       "      <td>-0.143772</td>\n",
       "      <td>0.635558</td>\n",
       "      <td>0.463917</td>\n",
       "      <td>-0.114805</td>\n",
       "      <td>-0.183361</td>\n",
       "      <td>-0.145783</td>\n",
       "      <td>-0.069083</td>\n",
       "      <td>-0.225775</td>\n",
       "      <td>-0.638672</td>\n",
       "      <td>0.101288</td>\n",
       "      <td>-0.339846</td>\n",
       "      <td>0.167170</td>\n",
       "      <td>0.125895</td>\n",
       "      <td>-0.008983</td>\n",
       "      <td>0.014724</td>\n",
       "      <td>2.69</td>\n",
       "      <td>0</td>\n",
       "    </tr>\n",
       "    <tr>\n",
       "      <th>2</th>\n",
       "      <td>1.0</td>\n",
       "      <td>-1.358354</td>\n",
       "      <td>-1.340163</td>\n",
       "      <td>1.773209</td>\n",
       "      <td>0.379780</td>\n",
       "      <td>-0.503198</td>\n",
       "      <td>1.800499</td>\n",
       "      <td>0.791461</td>\n",
       "      <td>0.247676</td>\n",
       "      <td>-1.514654</td>\n",
       "      <td>0.207643</td>\n",
       "      <td>0.624501</td>\n",
       "      <td>0.066084</td>\n",
       "      <td>0.717293</td>\n",
       "      <td>-0.165946</td>\n",
       "      <td>2.345865</td>\n",
       "      <td>-2.890083</td>\n",
       "      <td>1.109969</td>\n",
       "      <td>-0.121359</td>\n",
       "      <td>-2.261857</td>\n",
       "      <td>0.524980</td>\n",
       "      <td>0.247998</td>\n",
       "      <td>0.771679</td>\n",
       "      <td>0.909412</td>\n",
       "      <td>-0.689281</td>\n",
       "      <td>-0.327642</td>\n",
       "      <td>-0.139097</td>\n",
       "      <td>-0.055353</td>\n",
       "      <td>-0.059752</td>\n",
       "      <td>378.66</td>\n",
       "      <td>0</td>\n",
       "    </tr>\n",
       "    <tr>\n",
       "      <th>3</th>\n",
       "      <td>1.0</td>\n",
       "      <td>-0.966272</td>\n",
       "      <td>-0.185226</td>\n",
       "      <td>1.792993</td>\n",
       "      <td>-0.863291</td>\n",
       "      <td>-0.010309</td>\n",
       "      <td>1.247203</td>\n",
       "      <td>0.237609</td>\n",
       "      <td>0.377436</td>\n",
       "      <td>-1.387024</td>\n",
       "      <td>-0.054952</td>\n",
       "      <td>-0.226487</td>\n",
       "      <td>0.178228</td>\n",
       "      <td>0.507757</td>\n",
       "      <td>-0.287924</td>\n",
       "      <td>-0.631418</td>\n",
       "      <td>-1.059647</td>\n",
       "      <td>-0.684093</td>\n",
       "      <td>1.965775</td>\n",
       "      <td>-1.232622</td>\n",
       "      <td>-0.208038</td>\n",
       "      <td>-0.108300</td>\n",
       "      <td>0.005274</td>\n",
       "      <td>-0.190321</td>\n",
       "      <td>-1.175575</td>\n",
       "      <td>0.647376</td>\n",
       "      <td>-0.221929</td>\n",
       "      <td>0.062723</td>\n",
       "      <td>0.061458</td>\n",
       "      <td>123.50</td>\n",
       "      <td>0</td>\n",
       "    </tr>\n",
       "    <tr>\n",
       "      <th>4</th>\n",
       "      <td>2.0</td>\n",
       "      <td>-1.158233</td>\n",
       "      <td>0.877737</td>\n",
       "      <td>1.548718</td>\n",
       "      <td>0.403034</td>\n",
       "      <td>-0.407193</td>\n",
       "      <td>0.095921</td>\n",
       "      <td>0.592941</td>\n",
       "      <td>-0.270533</td>\n",
       "      <td>0.817739</td>\n",
       "      <td>0.753074</td>\n",
       "      <td>-0.822843</td>\n",
       "      <td>0.538196</td>\n",
       "      <td>1.345852</td>\n",
       "      <td>-1.119670</td>\n",
       "      <td>0.175121</td>\n",
       "      <td>-0.451449</td>\n",
       "      <td>-0.237033</td>\n",
       "      <td>-0.038195</td>\n",
       "      <td>0.803487</td>\n",
       "      <td>0.408542</td>\n",
       "      <td>-0.009431</td>\n",
       "      <td>0.798278</td>\n",
       "      <td>-0.137458</td>\n",
       "      <td>0.141267</td>\n",
       "      <td>-0.206010</td>\n",
       "      <td>0.502292</td>\n",
       "      <td>0.219422</td>\n",
       "      <td>0.215153</td>\n",
       "      <td>69.99</td>\n",
       "      <td>0</td>\n",
       "    </tr>\n",
       "    <tr>\n",
       "      <th>...</th>\n",
       "      <td>...</td>\n",
       "      <td>...</td>\n",
       "      <td>...</td>\n",
       "      <td>...</td>\n",
       "      <td>...</td>\n",
       "      <td>...</td>\n",
       "      <td>...</td>\n",
       "      <td>...</td>\n",
       "      <td>...</td>\n",
       "      <td>...</td>\n",
       "      <td>...</td>\n",
       "      <td>...</td>\n",
       "      <td>...</td>\n",
       "      <td>...</td>\n",
       "      <td>...</td>\n",
       "      <td>...</td>\n",
       "      <td>...</td>\n",
       "      <td>...</td>\n",
       "      <td>...</td>\n",
       "      <td>...</td>\n",
       "      <td>...</td>\n",
       "      <td>...</td>\n",
       "      <td>...</td>\n",
       "      <td>...</td>\n",
       "      <td>...</td>\n",
       "      <td>...</td>\n",
       "      <td>...</td>\n",
       "      <td>...</td>\n",
       "      <td>...</td>\n",
       "      <td>...</td>\n",
       "      <td>...</td>\n",
       "    </tr>\n",
       "    <tr>\n",
       "      <th>284802</th>\n",
       "      <td>172786.0</td>\n",
       "      <td>-11.881118</td>\n",
       "      <td>10.071785</td>\n",
       "      <td>-9.834783</td>\n",
       "      <td>-2.066656</td>\n",
       "      <td>-5.364473</td>\n",
       "      <td>-2.606837</td>\n",
       "      <td>-4.918215</td>\n",
       "      <td>7.305334</td>\n",
       "      <td>1.914428</td>\n",
       "      <td>4.356170</td>\n",
       "      <td>-1.593105</td>\n",
       "      <td>2.711941</td>\n",
       "      <td>-0.689256</td>\n",
       "      <td>4.626942</td>\n",
       "      <td>-0.924459</td>\n",
       "      <td>1.107641</td>\n",
       "      <td>1.991691</td>\n",
       "      <td>0.510632</td>\n",
       "      <td>-0.682920</td>\n",
       "      <td>1.475829</td>\n",
       "      <td>0.213454</td>\n",
       "      <td>0.111864</td>\n",
       "      <td>1.014480</td>\n",
       "      <td>-0.509348</td>\n",
       "      <td>1.436807</td>\n",
       "      <td>0.250034</td>\n",
       "      <td>0.943651</td>\n",
       "      <td>0.823731</td>\n",
       "      <td>0.77</td>\n",
       "      <td>0</td>\n",
       "    </tr>\n",
       "    <tr>\n",
       "      <th>284803</th>\n",
       "      <td>172787.0</td>\n",
       "      <td>-0.732789</td>\n",
       "      <td>-0.055080</td>\n",
       "      <td>2.035030</td>\n",
       "      <td>-0.738589</td>\n",
       "      <td>0.868229</td>\n",
       "      <td>1.058415</td>\n",
       "      <td>0.024330</td>\n",
       "      <td>0.294869</td>\n",
       "      <td>0.584800</td>\n",
       "      <td>-0.975926</td>\n",
       "      <td>-0.150189</td>\n",
       "      <td>0.915802</td>\n",
       "      <td>1.214756</td>\n",
       "      <td>-0.675143</td>\n",
       "      <td>1.164931</td>\n",
       "      <td>-0.711757</td>\n",
       "      <td>-0.025693</td>\n",
       "      <td>-1.221179</td>\n",
       "      <td>-1.545556</td>\n",
       "      <td>0.059616</td>\n",
       "      <td>0.214205</td>\n",
       "      <td>0.924384</td>\n",
       "      <td>0.012463</td>\n",
       "      <td>-1.016226</td>\n",
       "      <td>-0.606624</td>\n",
       "      <td>-0.395255</td>\n",
       "      <td>0.068472</td>\n",
       "      <td>-0.053527</td>\n",
       "      <td>24.79</td>\n",
       "      <td>0</td>\n",
       "    </tr>\n",
       "    <tr>\n",
       "      <th>284804</th>\n",
       "      <td>172788.0</td>\n",
       "      <td>1.919565</td>\n",
       "      <td>-0.301254</td>\n",
       "      <td>-3.249640</td>\n",
       "      <td>-0.557828</td>\n",
       "      <td>2.630515</td>\n",
       "      <td>3.031260</td>\n",
       "      <td>-0.296827</td>\n",
       "      <td>0.708417</td>\n",
       "      <td>0.432454</td>\n",
       "      <td>-0.484782</td>\n",
       "      <td>0.411614</td>\n",
       "      <td>0.063119</td>\n",
       "      <td>-0.183699</td>\n",
       "      <td>-0.510602</td>\n",
       "      <td>1.329284</td>\n",
       "      <td>0.140716</td>\n",
       "      <td>0.313502</td>\n",
       "      <td>0.395652</td>\n",
       "      <td>-0.577252</td>\n",
       "      <td>0.001396</td>\n",
       "      <td>0.232045</td>\n",
       "      <td>0.578229</td>\n",
       "      <td>-0.037501</td>\n",
       "      <td>0.640134</td>\n",
       "      <td>0.265745</td>\n",
       "      <td>-0.087371</td>\n",
       "      <td>0.004455</td>\n",
       "      <td>-0.026561</td>\n",
       "      <td>67.88</td>\n",
       "      <td>0</td>\n",
       "    </tr>\n",
       "    <tr>\n",
       "      <th>284805</th>\n",
       "      <td>172788.0</td>\n",
       "      <td>-0.240440</td>\n",
       "      <td>0.530483</td>\n",
       "      <td>0.702510</td>\n",
       "      <td>0.689799</td>\n",
       "      <td>-0.377961</td>\n",
       "      <td>0.623708</td>\n",
       "      <td>-0.686180</td>\n",
       "      <td>0.679145</td>\n",
       "      <td>0.392087</td>\n",
       "      <td>-0.399126</td>\n",
       "      <td>-1.933849</td>\n",
       "      <td>-0.962886</td>\n",
       "      <td>-1.042082</td>\n",
       "      <td>0.449624</td>\n",
       "      <td>1.962563</td>\n",
       "      <td>-0.608577</td>\n",
       "      <td>0.509928</td>\n",
       "      <td>1.113981</td>\n",
       "      <td>2.897849</td>\n",
       "      <td>0.127434</td>\n",
       "      <td>0.265245</td>\n",
       "      <td>0.800049</td>\n",
       "      <td>-0.163298</td>\n",
       "      <td>0.123205</td>\n",
       "      <td>-0.569159</td>\n",
       "      <td>0.546668</td>\n",
       "      <td>0.108821</td>\n",
       "      <td>0.104533</td>\n",
       "      <td>10.00</td>\n",
       "      <td>0</td>\n",
       "    </tr>\n",
       "    <tr>\n",
       "      <th>284806</th>\n",
       "      <td>172792.0</td>\n",
       "      <td>-0.533413</td>\n",
       "      <td>-0.189733</td>\n",
       "      <td>0.703337</td>\n",
       "      <td>-0.506271</td>\n",
       "      <td>-0.012546</td>\n",
       "      <td>-0.649617</td>\n",
       "      <td>1.577006</td>\n",
       "      <td>-0.414650</td>\n",
       "      <td>0.486180</td>\n",
       "      <td>-0.915427</td>\n",
       "      <td>-1.040458</td>\n",
       "      <td>-0.031513</td>\n",
       "      <td>-0.188093</td>\n",
       "      <td>-0.084316</td>\n",
       "      <td>0.041333</td>\n",
       "      <td>-0.302620</td>\n",
       "      <td>-0.660377</td>\n",
       "      <td>0.167430</td>\n",
       "      <td>-0.256117</td>\n",
       "      <td>0.382948</td>\n",
       "      <td>0.261057</td>\n",
       "      <td>0.643078</td>\n",
       "      <td>0.376777</td>\n",
       "      <td>0.008797</td>\n",
       "      <td>-0.473649</td>\n",
       "      <td>-0.818267</td>\n",
       "      <td>-0.002415</td>\n",
       "      <td>0.013649</td>\n",
       "      <td>217.00</td>\n",
       "      <td>0</td>\n",
       "    </tr>\n",
       "  </tbody>\n",
       "</table>\n",
       "<p>284807 rows × 31 columns</p>\n",
       "</div>"
      ],
      "text/plain": [
       "            Time         V1         V2  ...       V28  Amount  Class\n",
       "0            0.0  -1.359807  -0.072781  ... -0.021053  149.62      0\n",
       "1            0.0   1.191857   0.266151  ...  0.014724    2.69      0\n",
       "2            1.0  -1.358354  -1.340163  ... -0.059752  378.66      0\n",
       "3            1.0  -0.966272  -0.185226  ...  0.061458  123.50      0\n",
       "4            2.0  -1.158233   0.877737  ...  0.215153   69.99      0\n",
       "...          ...        ...        ...  ...       ...     ...    ...\n",
       "284802  172786.0 -11.881118  10.071785  ...  0.823731    0.77      0\n",
       "284803  172787.0  -0.732789  -0.055080  ... -0.053527   24.79      0\n",
       "284804  172788.0   1.919565  -0.301254  ... -0.026561   67.88      0\n",
       "284805  172788.0  -0.240440   0.530483  ...  0.104533   10.00      0\n",
       "284806  172792.0  -0.533413  -0.189733  ...  0.013649  217.00      0\n",
       "\n",
       "[284807 rows x 31 columns]"
      ]
     },
     "execution_count": 2,
     "metadata": {
      "tags": []
     },
     "output_type": "execute_result"
    }
   ],
   "source": [
    "credit_card_data = pd.read_csv(\"https://raw.githubusercontent.com/nsethi31/Kaggle-Data-Credit-Card-Fraud-Detection/master/creditcard.csv\")\n",
    "credit_card_data"
   ]
  },
  {
   "cell_type": "markdown",
   "metadata": {
    "id": "h38rXUq6z11G"
   },
   "source": [
    "#### Print out dataframe information, shape, and count the values of `Class` to check if the data is imbalanced"
   ]
  },
  {
   "cell_type": "code",
   "execution_count": 3,
   "metadata": {
    "colab": {
     "base_uri": "https://localhost:8080/"
    },
    "id": "3i0NXfvT0DVP",
    "outputId": "c898b5bb-4606-4f13-bedd-b0017ddf6b8b"
   },
   "outputs": [
    {
     "name": "stdout",
     "output_type": "stream",
     "text": [
      "<class 'pandas.core.frame.DataFrame'>\n",
      "RangeIndex: 284807 entries, 0 to 284806\n",
      "Data columns (total 31 columns):\n",
      " #   Column  Non-Null Count   Dtype  \n",
      "---  ------  --------------   -----  \n",
      " 0   Time    284807 non-null  float64\n",
      " 1   V1      284807 non-null  float64\n",
      " 2   V2      284807 non-null  float64\n",
      " 3   V3      284807 non-null  float64\n",
      " 4   V4      284807 non-null  float64\n",
      " 5   V5      284807 non-null  float64\n",
      " 6   V6      284807 non-null  float64\n",
      " 7   V7      284807 non-null  float64\n",
      " 8   V8      284807 non-null  float64\n",
      " 9   V9      284807 non-null  float64\n",
      " 10  V10     284807 non-null  float64\n",
      " 11  V11     284807 non-null  float64\n",
      " 12  V12     284807 non-null  float64\n",
      " 13  V13     284807 non-null  float64\n",
      " 14  V14     284807 non-null  float64\n",
      " 15  V15     284807 non-null  float64\n",
      " 16  V16     284807 non-null  float64\n",
      " 17  V17     284807 non-null  float64\n",
      " 18  V18     284807 non-null  float64\n",
      " 19  V19     284807 non-null  float64\n",
      " 20  V20     284807 non-null  float64\n",
      " 21  V21     284807 non-null  float64\n",
      " 22  V22     284807 non-null  float64\n",
      " 23  V23     284807 non-null  float64\n",
      " 24  V24     284807 non-null  float64\n",
      " 25  V25     284807 non-null  float64\n",
      " 26  V26     284807 non-null  float64\n",
      " 27  V27     284807 non-null  float64\n",
      " 28  V28     284807 non-null  float64\n",
      " 29  Amount  284807 non-null  float64\n",
      " 30  Class   284807 non-null  int64  \n",
      "dtypes: float64(30), int64(1)\n",
      "memory usage: 67.4 MB\n"
     ]
    }
   ],
   "source": [
    "credit_card_data.info()"
   ]
  },
  {
   "cell_type": "code",
   "execution_count": 4,
   "metadata": {
    "colab": {
     "base_uri": "https://localhost:8080/"
    },
    "collapsed": true,
    "id": "lFPYtqP6xNjg",
    "outputId": "5ca61cbe-5b1e-4674-a4f1-bd6898a6a947"
   },
   "outputs": [
    {
     "name": "stdout",
     "output_type": "stream",
     "text": [
      "No.of observations:  284807\n",
      "No.of features:  31\n"
     ]
    }
   ],
   "source": [
    "#finding the shape of dataframe (finding no.of observations and features in the given dataframe)\n",
    "print(\"No.of observations: \",credit_card_data.shape[0])\n",
    "print(\"No.of features: \", credit_card_data.shape[1])"
   ]
  },
  {
   "cell_type": "code",
   "execution_count": 5,
   "metadata": {
    "colab": {
     "base_uri": "https://localhost:8080/"
    },
    "collapsed": true,
    "id": "VSfe7T4NxNjg",
    "outputId": "67888790-1b2b-4d34-dcb8-9d6de84e2ad8"
   },
   "outputs": [
    {
     "data": {
      "text/plain": [
       "Time      V1          V2          V3         V4         V5         V6         V7          V8          V9         V10        V11        V12        V13        V14        V15        V16        V17        V18        V19        V20        V21         V22        V23        V24        V25        V26        V27        V28        Amount  Class\n",
       "163152.0  -1.203617    1.574009    2.889277   3.381404   1.538663   3.698747   0.560211   -0.150911    0.124136   4.220998   1.384569  -0.706897  -0.256274  -1.562583   1.692915  -0.787338  -0.226776  -0.412354   0.234322   1.385597  -0.366727    0.522223  -0.357329  -0.870174  -0.134166   0.327019  -0.042648  -0.855262  1.51    0        18\n",
       "          -1.196037    1.585949    2.883976   3.378471   1.511706   3.717077   0.585362   -0.156001    0.122648   4.217934   1.385525  -0.709405  -0.256168  -1.564352   1.693218  -0.785210  -0.228008  -0.412833   0.234834   1.375790  -0.370294    0.524395  -0.355170  -0.869790  -0.133198   0.327804  -0.035702  -0.858197  7.56    0        18\n",
       "170731.0   2.033492    0.766969   -2.107555   3.631952   1.348594  -0.499907   0.945159   -0.286392   -1.370581   1.653073  -1.600434  -1.510901  -2.143280   1.189850  -0.875588   0.175808  -0.419433  -0.464717  -1.414528  -0.430560   0.241894    0.658545  -0.102644   0.580535   0.643637   0.347240  -0.116618  -0.078601  0.76    0         9\n",
       "43153.0   -2.086016    2.203265    1.654339   2.941050  -1.683045   0.529728  -1.352162    1.793449   -0.723686   0.600365  -0.982212  -0.551636  -1.337000   0.834403   1.251862   0.033455   1.067978   0.160510   0.213087   0.079002   0.216444    0.567241  -0.035345   0.370201   0.157378   0.440341   0.210230   0.090558  0.76    0         9\n",
       "68207.0   -13.192671   12.785971  -9.906650   3.320337  -4.801176   5.760059  -18.750889  -37.353443  -0.391540  -5.052502   4.406806  -4.610756  -1.909488  -9.072711  -0.226074  -6.211557  -6.248145  -3.149247   0.051576  -3.493050   27.202839  -8.887017   5.303607  -0.639435   0.263203  -0.108877   1.269566   0.939407  1.00    1         6\n",
       "                                                                                                                                                                                                                                                                                                                                                    ..\n",
       "128516.0  -0.718097    1.379483   -1.028163  -1.391419   1.733354  -1.424488   2.079085   -0.967967    0.464965   0.979399  -1.107038  -0.005980   0.705793  -0.166483  -0.100694  -0.741604  -0.946237  -0.385907   0.047764   0.474493   0.018806    0.853616  -0.391553  -0.583874  -0.090394   0.070217   0.227953   0.097015  7.70    0         1\n",
       "          -1.605320   -0.099729   -0.761847  -0.217924   1.501036  -0.172438   0.248123    0.473783   -0.000272  -0.362453  -0.329404   0.536952   0.380144   0.656511   1.310089  -1.225375   0.504458  -1.265515  -0.993293  -0.515854   0.414621    1.806486   0.912984  -0.999173  -0.763147  -0.104569   0.274970   0.281219  0.99    0         1\n",
       "128515.0   1.922330   -0.557369   -1.000299   0.025370   0.086882   0.560168  -0.513197    0.208442    1.077369  -0.007037  -0.145495   0.586234  -0.236570   0.235340   0.110858   0.726614  -1.166136   0.673512   0.655006  -0.066112  -0.222251   -0.720601   0.238414  -0.412577  -0.341709  -0.654596   0.006524  -0.036658  64.05   0         1\n",
       "          -1.014617   -1.310073   -0.425960  -4.231576   1.181952  -2.528114   0.218553   -0.187614    0.190666  -0.946100   0.618314   0.723409  -0.785065   0.709114  -0.776556  -2.362777  -0.446026   1.684879  -0.846631  -0.302563   0.003295    0.335716   0.074028  -0.023902  -0.152366  -1.030824   0.417237   0.280758  21.68   0         1\n",
       "0.0       -1.359807   -0.072781    2.536347   1.378155  -0.338321   0.462388   0.239599    0.098698    0.363787   0.090794  -0.551600  -0.617801  -0.991390  -0.311169   1.468177  -0.470401   0.207971   0.025791   0.403993   0.251412  -0.018307    0.277838  -0.110474   0.066928   0.128539  -0.189115   0.133558  -0.021053  149.62  0         1\n",
       "Length: 283726, dtype: int64"
      ]
     },
     "execution_count": 5,
     "metadata": {
      "tags": []
     },
     "output_type": "execute_result"
    }
   ],
   "source": [
    "#finding whether it is balanced data or imbalanced data\n",
    "credit_card_data.value_counts()"
   ]
  },
  {
   "cell_type": "markdown",
   "metadata": {
    "id": "slQFYYiUxNjh"
   },
   "source": [
    "From the above info it is clear that it is an imbalanced dataset"
   ]
  },
  {
   "cell_type": "markdown",
   "metadata": {
    "id": "-tcyv6CpxNjh"
   },
   "source": [
    "#### Let rename the class variables \n",
    "\n",
    "0 - legitimate\n",
    "\n",
    "1- fraud"
   ]
  },
  {
   "cell_type": "code",
   "execution_count": 6,
   "metadata": {
    "collapsed": true,
    "id": "V_h78LolxNjh"
   },
   "outputs": [],
   "source": [
    "credit_card_data =  credit_card_data.replace({\"Class\": {0: \"legitimate\", 1: \"fraud\"}})"
   ]
  },
  {
   "cell_type": "code",
   "execution_count": 7,
   "metadata": {
    "colab": {
     "base_uri": "https://localhost:8080/",
     "height": 426
    },
    "collapsed": true,
    "id": "h0lxDf9VxNjh",
    "outputId": "33da0498-fc78-4c1c-dc7c-279ba80d1afb"
   },
   "outputs": [
    {
     "data": {
      "text/html": [
       "<div>\n",
       "<style scoped>\n",
       "    .dataframe tbody tr th:only-of-type {\n",
       "        vertical-align: middle;\n",
       "    }\n",
       "\n",
       "    .dataframe tbody tr th {\n",
       "        vertical-align: top;\n",
       "    }\n",
       "\n",
       "    .dataframe thead th {\n",
       "        text-align: right;\n",
       "    }\n",
       "</style>\n",
       "<table border=\"1\" class=\"dataframe\">\n",
       "  <thead>\n",
       "    <tr style=\"text-align: right;\">\n",
       "      <th></th>\n",
       "      <th>Time</th>\n",
       "      <th>V1</th>\n",
       "      <th>V2</th>\n",
       "      <th>V3</th>\n",
       "      <th>V4</th>\n",
       "      <th>V5</th>\n",
       "      <th>V6</th>\n",
       "      <th>V7</th>\n",
       "      <th>V8</th>\n",
       "      <th>V9</th>\n",
       "      <th>V10</th>\n",
       "      <th>V11</th>\n",
       "      <th>V12</th>\n",
       "      <th>V13</th>\n",
       "      <th>V14</th>\n",
       "      <th>V15</th>\n",
       "      <th>V16</th>\n",
       "      <th>V17</th>\n",
       "      <th>V18</th>\n",
       "      <th>V19</th>\n",
       "      <th>V20</th>\n",
       "      <th>V21</th>\n",
       "      <th>V22</th>\n",
       "      <th>V23</th>\n",
       "      <th>V24</th>\n",
       "      <th>V25</th>\n",
       "      <th>V26</th>\n",
       "      <th>V27</th>\n",
       "      <th>V28</th>\n",
       "      <th>Amount</th>\n",
       "      <th>Class</th>\n",
       "    </tr>\n",
       "  </thead>\n",
       "  <tbody>\n",
       "    <tr>\n",
       "      <th>0</th>\n",
       "      <td>0.0</td>\n",
       "      <td>-1.359807</td>\n",
       "      <td>-0.072781</td>\n",
       "      <td>2.536347</td>\n",
       "      <td>1.378155</td>\n",
       "      <td>-0.338321</td>\n",
       "      <td>0.462388</td>\n",
       "      <td>0.239599</td>\n",
       "      <td>0.098698</td>\n",
       "      <td>0.363787</td>\n",
       "      <td>0.090794</td>\n",
       "      <td>-0.551600</td>\n",
       "      <td>-0.617801</td>\n",
       "      <td>-0.991390</td>\n",
       "      <td>-0.311169</td>\n",
       "      <td>1.468177</td>\n",
       "      <td>-0.470401</td>\n",
       "      <td>0.207971</td>\n",
       "      <td>0.025791</td>\n",
       "      <td>0.403993</td>\n",
       "      <td>0.251412</td>\n",
       "      <td>-0.018307</td>\n",
       "      <td>0.277838</td>\n",
       "      <td>-0.110474</td>\n",
       "      <td>0.066928</td>\n",
       "      <td>0.128539</td>\n",
       "      <td>-0.189115</td>\n",
       "      <td>0.133558</td>\n",
       "      <td>-0.021053</td>\n",
       "      <td>149.62</td>\n",
       "      <td>legitimate</td>\n",
       "    </tr>\n",
       "    <tr>\n",
       "      <th>1</th>\n",
       "      <td>0.0</td>\n",
       "      <td>1.191857</td>\n",
       "      <td>0.266151</td>\n",
       "      <td>0.166480</td>\n",
       "      <td>0.448154</td>\n",
       "      <td>0.060018</td>\n",
       "      <td>-0.082361</td>\n",
       "      <td>-0.078803</td>\n",
       "      <td>0.085102</td>\n",
       "      <td>-0.255425</td>\n",
       "      <td>-0.166974</td>\n",
       "      <td>1.612727</td>\n",
       "      <td>1.065235</td>\n",
       "      <td>0.489095</td>\n",
       "      <td>-0.143772</td>\n",
       "      <td>0.635558</td>\n",
       "      <td>0.463917</td>\n",
       "      <td>-0.114805</td>\n",
       "      <td>-0.183361</td>\n",
       "      <td>-0.145783</td>\n",
       "      <td>-0.069083</td>\n",
       "      <td>-0.225775</td>\n",
       "      <td>-0.638672</td>\n",
       "      <td>0.101288</td>\n",
       "      <td>-0.339846</td>\n",
       "      <td>0.167170</td>\n",
       "      <td>0.125895</td>\n",
       "      <td>-0.008983</td>\n",
       "      <td>0.014724</td>\n",
       "      <td>2.69</td>\n",
       "      <td>legitimate</td>\n",
       "    </tr>\n",
       "    <tr>\n",
       "      <th>2</th>\n",
       "      <td>1.0</td>\n",
       "      <td>-1.358354</td>\n",
       "      <td>-1.340163</td>\n",
       "      <td>1.773209</td>\n",
       "      <td>0.379780</td>\n",
       "      <td>-0.503198</td>\n",
       "      <td>1.800499</td>\n",
       "      <td>0.791461</td>\n",
       "      <td>0.247676</td>\n",
       "      <td>-1.514654</td>\n",
       "      <td>0.207643</td>\n",
       "      <td>0.624501</td>\n",
       "      <td>0.066084</td>\n",
       "      <td>0.717293</td>\n",
       "      <td>-0.165946</td>\n",
       "      <td>2.345865</td>\n",
       "      <td>-2.890083</td>\n",
       "      <td>1.109969</td>\n",
       "      <td>-0.121359</td>\n",
       "      <td>-2.261857</td>\n",
       "      <td>0.524980</td>\n",
       "      <td>0.247998</td>\n",
       "      <td>0.771679</td>\n",
       "      <td>0.909412</td>\n",
       "      <td>-0.689281</td>\n",
       "      <td>-0.327642</td>\n",
       "      <td>-0.139097</td>\n",
       "      <td>-0.055353</td>\n",
       "      <td>-0.059752</td>\n",
       "      <td>378.66</td>\n",
       "      <td>legitimate</td>\n",
       "    </tr>\n",
       "    <tr>\n",
       "      <th>3</th>\n",
       "      <td>1.0</td>\n",
       "      <td>-0.966272</td>\n",
       "      <td>-0.185226</td>\n",
       "      <td>1.792993</td>\n",
       "      <td>-0.863291</td>\n",
       "      <td>-0.010309</td>\n",
       "      <td>1.247203</td>\n",
       "      <td>0.237609</td>\n",
       "      <td>0.377436</td>\n",
       "      <td>-1.387024</td>\n",
       "      <td>-0.054952</td>\n",
       "      <td>-0.226487</td>\n",
       "      <td>0.178228</td>\n",
       "      <td>0.507757</td>\n",
       "      <td>-0.287924</td>\n",
       "      <td>-0.631418</td>\n",
       "      <td>-1.059647</td>\n",
       "      <td>-0.684093</td>\n",
       "      <td>1.965775</td>\n",
       "      <td>-1.232622</td>\n",
       "      <td>-0.208038</td>\n",
       "      <td>-0.108300</td>\n",
       "      <td>0.005274</td>\n",
       "      <td>-0.190321</td>\n",
       "      <td>-1.175575</td>\n",
       "      <td>0.647376</td>\n",
       "      <td>-0.221929</td>\n",
       "      <td>0.062723</td>\n",
       "      <td>0.061458</td>\n",
       "      <td>123.50</td>\n",
       "      <td>legitimate</td>\n",
       "    </tr>\n",
       "    <tr>\n",
       "      <th>4</th>\n",
       "      <td>2.0</td>\n",
       "      <td>-1.158233</td>\n",
       "      <td>0.877737</td>\n",
       "      <td>1.548718</td>\n",
       "      <td>0.403034</td>\n",
       "      <td>-0.407193</td>\n",
       "      <td>0.095921</td>\n",
       "      <td>0.592941</td>\n",
       "      <td>-0.270533</td>\n",
       "      <td>0.817739</td>\n",
       "      <td>0.753074</td>\n",
       "      <td>-0.822843</td>\n",
       "      <td>0.538196</td>\n",
       "      <td>1.345852</td>\n",
       "      <td>-1.119670</td>\n",
       "      <td>0.175121</td>\n",
       "      <td>-0.451449</td>\n",
       "      <td>-0.237033</td>\n",
       "      <td>-0.038195</td>\n",
       "      <td>0.803487</td>\n",
       "      <td>0.408542</td>\n",
       "      <td>-0.009431</td>\n",
       "      <td>0.798278</td>\n",
       "      <td>-0.137458</td>\n",
       "      <td>0.141267</td>\n",
       "      <td>-0.206010</td>\n",
       "      <td>0.502292</td>\n",
       "      <td>0.219422</td>\n",
       "      <td>0.215153</td>\n",
       "      <td>69.99</td>\n",
       "      <td>legitimate</td>\n",
       "    </tr>\n",
       "    <tr>\n",
       "      <th>...</th>\n",
       "      <td>...</td>\n",
       "      <td>...</td>\n",
       "      <td>...</td>\n",
       "      <td>...</td>\n",
       "      <td>...</td>\n",
       "      <td>...</td>\n",
       "      <td>...</td>\n",
       "      <td>...</td>\n",
       "      <td>...</td>\n",
       "      <td>...</td>\n",
       "      <td>...</td>\n",
       "      <td>...</td>\n",
       "      <td>...</td>\n",
       "      <td>...</td>\n",
       "      <td>...</td>\n",
       "      <td>...</td>\n",
       "      <td>...</td>\n",
       "      <td>...</td>\n",
       "      <td>...</td>\n",
       "      <td>...</td>\n",
       "      <td>...</td>\n",
       "      <td>...</td>\n",
       "      <td>...</td>\n",
       "      <td>...</td>\n",
       "      <td>...</td>\n",
       "      <td>...</td>\n",
       "      <td>...</td>\n",
       "      <td>...</td>\n",
       "      <td>...</td>\n",
       "      <td>...</td>\n",
       "      <td>...</td>\n",
       "    </tr>\n",
       "    <tr>\n",
       "      <th>284802</th>\n",
       "      <td>172786.0</td>\n",
       "      <td>-11.881118</td>\n",
       "      <td>10.071785</td>\n",
       "      <td>-9.834783</td>\n",
       "      <td>-2.066656</td>\n",
       "      <td>-5.364473</td>\n",
       "      <td>-2.606837</td>\n",
       "      <td>-4.918215</td>\n",
       "      <td>7.305334</td>\n",
       "      <td>1.914428</td>\n",
       "      <td>4.356170</td>\n",
       "      <td>-1.593105</td>\n",
       "      <td>2.711941</td>\n",
       "      <td>-0.689256</td>\n",
       "      <td>4.626942</td>\n",
       "      <td>-0.924459</td>\n",
       "      <td>1.107641</td>\n",
       "      <td>1.991691</td>\n",
       "      <td>0.510632</td>\n",
       "      <td>-0.682920</td>\n",
       "      <td>1.475829</td>\n",
       "      <td>0.213454</td>\n",
       "      <td>0.111864</td>\n",
       "      <td>1.014480</td>\n",
       "      <td>-0.509348</td>\n",
       "      <td>1.436807</td>\n",
       "      <td>0.250034</td>\n",
       "      <td>0.943651</td>\n",
       "      <td>0.823731</td>\n",
       "      <td>0.77</td>\n",
       "      <td>legitimate</td>\n",
       "    </tr>\n",
       "    <tr>\n",
       "      <th>284803</th>\n",
       "      <td>172787.0</td>\n",
       "      <td>-0.732789</td>\n",
       "      <td>-0.055080</td>\n",
       "      <td>2.035030</td>\n",
       "      <td>-0.738589</td>\n",
       "      <td>0.868229</td>\n",
       "      <td>1.058415</td>\n",
       "      <td>0.024330</td>\n",
       "      <td>0.294869</td>\n",
       "      <td>0.584800</td>\n",
       "      <td>-0.975926</td>\n",
       "      <td>-0.150189</td>\n",
       "      <td>0.915802</td>\n",
       "      <td>1.214756</td>\n",
       "      <td>-0.675143</td>\n",
       "      <td>1.164931</td>\n",
       "      <td>-0.711757</td>\n",
       "      <td>-0.025693</td>\n",
       "      <td>-1.221179</td>\n",
       "      <td>-1.545556</td>\n",
       "      <td>0.059616</td>\n",
       "      <td>0.214205</td>\n",
       "      <td>0.924384</td>\n",
       "      <td>0.012463</td>\n",
       "      <td>-1.016226</td>\n",
       "      <td>-0.606624</td>\n",
       "      <td>-0.395255</td>\n",
       "      <td>0.068472</td>\n",
       "      <td>-0.053527</td>\n",
       "      <td>24.79</td>\n",
       "      <td>legitimate</td>\n",
       "    </tr>\n",
       "    <tr>\n",
       "      <th>284804</th>\n",
       "      <td>172788.0</td>\n",
       "      <td>1.919565</td>\n",
       "      <td>-0.301254</td>\n",
       "      <td>-3.249640</td>\n",
       "      <td>-0.557828</td>\n",
       "      <td>2.630515</td>\n",
       "      <td>3.031260</td>\n",
       "      <td>-0.296827</td>\n",
       "      <td>0.708417</td>\n",
       "      <td>0.432454</td>\n",
       "      <td>-0.484782</td>\n",
       "      <td>0.411614</td>\n",
       "      <td>0.063119</td>\n",
       "      <td>-0.183699</td>\n",
       "      <td>-0.510602</td>\n",
       "      <td>1.329284</td>\n",
       "      <td>0.140716</td>\n",
       "      <td>0.313502</td>\n",
       "      <td>0.395652</td>\n",
       "      <td>-0.577252</td>\n",
       "      <td>0.001396</td>\n",
       "      <td>0.232045</td>\n",
       "      <td>0.578229</td>\n",
       "      <td>-0.037501</td>\n",
       "      <td>0.640134</td>\n",
       "      <td>0.265745</td>\n",
       "      <td>-0.087371</td>\n",
       "      <td>0.004455</td>\n",
       "      <td>-0.026561</td>\n",
       "      <td>67.88</td>\n",
       "      <td>legitimate</td>\n",
       "    </tr>\n",
       "    <tr>\n",
       "      <th>284805</th>\n",
       "      <td>172788.0</td>\n",
       "      <td>-0.240440</td>\n",
       "      <td>0.530483</td>\n",
       "      <td>0.702510</td>\n",
       "      <td>0.689799</td>\n",
       "      <td>-0.377961</td>\n",
       "      <td>0.623708</td>\n",
       "      <td>-0.686180</td>\n",
       "      <td>0.679145</td>\n",
       "      <td>0.392087</td>\n",
       "      <td>-0.399126</td>\n",
       "      <td>-1.933849</td>\n",
       "      <td>-0.962886</td>\n",
       "      <td>-1.042082</td>\n",
       "      <td>0.449624</td>\n",
       "      <td>1.962563</td>\n",
       "      <td>-0.608577</td>\n",
       "      <td>0.509928</td>\n",
       "      <td>1.113981</td>\n",
       "      <td>2.897849</td>\n",
       "      <td>0.127434</td>\n",
       "      <td>0.265245</td>\n",
       "      <td>0.800049</td>\n",
       "      <td>-0.163298</td>\n",
       "      <td>0.123205</td>\n",
       "      <td>-0.569159</td>\n",
       "      <td>0.546668</td>\n",
       "      <td>0.108821</td>\n",
       "      <td>0.104533</td>\n",
       "      <td>10.00</td>\n",
       "      <td>legitimate</td>\n",
       "    </tr>\n",
       "    <tr>\n",
       "      <th>284806</th>\n",
       "      <td>172792.0</td>\n",
       "      <td>-0.533413</td>\n",
       "      <td>-0.189733</td>\n",
       "      <td>0.703337</td>\n",
       "      <td>-0.506271</td>\n",
       "      <td>-0.012546</td>\n",
       "      <td>-0.649617</td>\n",
       "      <td>1.577006</td>\n",
       "      <td>-0.414650</td>\n",
       "      <td>0.486180</td>\n",
       "      <td>-0.915427</td>\n",
       "      <td>-1.040458</td>\n",
       "      <td>-0.031513</td>\n",
       "      <td>-0.188093</td>\n",
       "      <td>-0.084316</td>\n",
       "      <td>0.041333</td>\n",
       "      <td>-0.302620</td>\n",
       "      <td>-0.660377</td>\n",
       "      <td>0.167430</td>\n",
       "      <td>-0.256117</td>\n",
       "      <td>0.382948</td>\n",
       "      <td>0.261057</td>\n",
       "      <td>0.643078</td>\n",
       "      <td>0.376777</td>\n",
       "      <td>0.008797</td>\n",
       "      <td>-0.473649</td>\n",
       "      <td>-0.818267</td>\n",
       "      <td>-0.002415</td>\n",
       "      <td>0.013649</td>\n",
       "      <td>217.00</td>\n",
       "      <td>legitimate</td>\n",
       "    </tr>\n",
       "  </tbody>\n",
       "</table>\n",
       "<p>284807 rows × 31 columns</p>\n",
       "</div>"
      ],
      "text/plain": [
       "            Time         V1         V2  ...       V28  Amount       Class\n",
       "0            0.0  -1.359807  -0.072781  ... -0.021053  149.62  legitimate\n",
       "1            0.0   1.191857   0.266151  ...  0.014724    2.69  legitimate\n",
       "2            1.0  -1.358354  -1.340163  ... -0.059752  378.66  legitimate\n",
       "3            1.0  -0.966272  -0.185226  ...  0.061458  123.50  legitimate\n",
       "4            2.0  -1.158233   0.877737  ...  0.215153   69.99  legitimate\n",
       "...          ...        ...        ...  ...       ...     ...         ...\n",
       "284802  172786.0 -11.881118  10.071785  ...  0.823731    0.77  legitimate\n",
       "284803  172787.0  -0.732789  -0.055080  ... -0.053527   24.79  legitimate\n",
       "284804  172788.0   1.919565  -0.301254  ... -0.026561   67.88  legitimate\n",
       "284805  172788.0  -0.240440   0.530483  ...  0.104533   10.00  legitimate\n",
       "284806  172792.0  -0.533413  -0.189733  ...  0.013649  217.00  legitimate\n",
       "\n",
       "[284807 rows x 31 columns]"
      ]
     },
     "execution_count": 7,
     "metadata": {
      "tags": []
     },
     "output_type": "execute_result"
    }
   ],
   "source": [
    "credit_card_data"
   ]
  },
  {
   "cell_type": "markdown",
   "metadata": {
    "id": "IT9WRwJg0Xz6"
   },
   "source": [
    "#### Subsetting the dataset, including only `Time`,`Amount`,`Class`"
   ]
  },
  {
   "cell_type": "code",
   "execution_count": 8,
   "metadata": {
    "collapsed": true,
    "id": "KcypwPkHxNji"
   },
   "outputs": [],
   "source": [
    "#subsetting the dataset \n",
    "credit_card_data_subset = credit_card_data[['Time','Amount','Class']]"
   ]
  },
  {
   "cell_type": "markdown",
   "metadata": {
    "id": "9BvhfHq_0ole"
   },
   "source": [
    "#### Check the distribution of data (to check whether our subset of data contains same count as original dataset)"
   ]
  },
  {
   "cell_type": "code",
   "execution_count": 9,
   "metadata": {
    "colab": {
     "base_uri": "https://localhost:8080/"
    },
    "collapsed": true,
    "id": "nqkXc98wxNji",
    "outputId": "d3b8e48d-6a3d-4735-9452-517222b5768f"
   },
   "outputs": [
    {
     "data": {
      "text/plain": [
       "legitimate    284315\n",
       "fraud            492\n",
       "Name: Class, dtype: int64"
      ]
     },
     "execution_count": 9,
     "metadata": {
      "tags": []
     },
     "output_type": "execute_result"
    }
   ],
   "source": [
    "#checking the distribution of data (to check whether our subset of data contains same count as original dataset)\n",
    "credit_card_data_subset['Class'].value_counts()"
   ]
  },
  {
   "cell_type": "markdown",
   "metadata": {
    "id": "vHMiA6yuxNji"
   },
   "source": [
    "#### Performing EDA on this data (Pair plots using `seaborns` to find out which features have more importance when compared to other features)\n"
   ]
  },
  {
   "cell_type": "code",
   "execution_count": 10,
   "metadata": {
    "collapsed": true,
    "id": "uB1-FvspxNji"
   },
   "outputs": [],
   "source": [
    "import seaborn as sns\n",
    "import matplotlib.pyplot as plt"
   ]
  },
  {
   "cell_type": "code",
   "execution_count": 11,
   "metadata": {
    "collapsed": true,
    "id": "c8G3Q4-axNjj"
   },
   "outputs": [],
   "source": [
    "%matplotlib inline"
   ]
  },
  {
   "cell_type": "code",
   "execution_count": 12,
   "metadata": {
    "colab": {
     "base_uri": "https://localhost:8080/",
     "height": 374
    },
    "collapsed": true,
    "id": "ZmN2IGeKxNjm",
    "outputId": "9ddeb3d0-3e1a-472d-bf28-0f28ef7ca145"
   },
   "outputs": [
    {
     "data": {
      "image/png": "[encoded data removed]",
      "text/plain": [
       "<Figure size 446.75x360 with 1 Axes>"
      ]
     },
     "metadata": {
      "needs_background": "light",
      "tags": []
     },
     "output_type": "display_data"
    }
   ],
   "source": [
    "sns.FacetGrid(credit_card_data_subset,hue='Class',size = 5).map(sns.distplot,'Time').add_legend()\n",
    "plt.title(\"Histogram with PDF for feature 'time' \")\n",
    "plt.show()"
   ]
  },
  {
   "cell_type": "code",
   "execution_count": 13,
   "metadata": {
    "colab": {
     "base_uri": "https://localhost:8080/",
     "height": 601
    },
    "collapsed": true,
    "id": "3JyKGH9LxNjm",
    "outputId": "917a133d-d429-4373-a193-5fdad08945e6"
   },
   "outputs": [
    {
     "data": {
      "image/png": "[encoded data removed]",
      "text/plain": [
       "<Figure size 662.75x576 with 1 Axes>"
      ]
     },
     "metadata": {
      "needs_background": "light",
      "tags": []
     },
     "output_type": "display_data"
    }
   ],
   "source": [
    "sns.FacetGrid(credit_card_data_subset,hue='Class',size=8).map(sns.distplot,'Amount').add_legend()\n",
    "plt.title(\"Histogram with PDF for feature 'Amount' \")\n",
    "plt.show()"
   ]
  },
  {
   "cell_type": "markdown",
   "metadata": {
    "id": "jziDH-LQxNjm"
   },
   "source": [
    "**Observation:**\n",
    "\n",
    "1.It is evident that the feature 'time' has so much of overlapping. We couldn't make any predictions or classifications out of it. So, we could discard this feature in classification of outcome.\n",
    "\n",
    "2.Whereas the feature 'Amount' has also overlapping but we could make some prediction out of it when compared to another feature. \n",
    "    \n",
    "\n",
    "    "
   ]
  },
  {
   "cell_type": "markdown",
   "metadata": {
    "id": "ACp4HMvu11mq"
   },
   "source": [
    "#### Let divide the data according to classes for appropriate analysis"
   ]
  },
  {
   "cell_type": "code",
   "execution_count": 14,
   "metadata": {
    "collapsed": true,
    "id": "PE6cxgirxNjn"
   },
   "outputs": [],
   "source": [
    "#dividing the data according to classes for appropriate analysis\n",
    "credit_card_data_subset_class_fraud = credit_card_data_subset[credit_card_data_subset['Class'] == 'fraud']"
   ]
  },
  {
   "cell_type": "code",
   "execution_count": 15,
   "metadata": {
    "colab": {
     "base_uri": "https://localhost:8080/"
    },
    "collapsed": true,
    "id": "WpuSNaOBxNjn",
    "outputId": "0b5f4f25-299f-49f0-f712-7ea5550455ca"
   },
   "outputs": [
    {
     "data": {
      "text/plain": [
       "(492, 3)"
      ]
     },
     "execution_count": 15,
     "metadata": {
      "tags": []
     },
     "output_type": "execute_result"
    }
   ],
   "source": [
    "credit_card_data_subset_class_fraud.shape"
   ]
  },
  {
   "cell_type": "code",
   "execution_count": 16,
   "metadata": {
    "colab": {
     "base_uri": "https://localhost:8080/",
     "height": 197
    },
    "collapsed": true,
    "id": "NBnW6ePwxNjn",
    "outputId": "5b48e729-2df8-4274-a402-92158180009b"
   },
   "outputs": [
    {
     "data": {
      "text/html": [
       "<div>\n",
       "<style scoped>\n",
       "    .dataframe tbody tr th:only-of-type {\n",
       "        vertical-align: middle;\n",
       "    }\n",
       "\n",
       "    .dataframe tbody tr th {\n",
       "        vertical-align: top;\n",
       "    }\n",
       "\n",
       "    .dataframe thead th {\n",
       "        text-align: right;\n",
       "    }\n",
       "</style>\n",
       "<table border=\"1\" class=\"dataframe\">\n",
       "  <thead>\n",
       "    <tr style=\"text-align: right;\">\n",
       "      <th></th>\n",
       "      <th>Time</th>\n",
       "      <th>Amount</th>\n",
       "      <th>Class</th>\n",
       "    </tr>\n",
       "  </thead>\n",
       "  <tbody>\n",
       "    <tr>\n",
       "      <th>541</th>\n",
       "      <td>406.0</td>\n",
       "      <td>0.00</td>\n",
       "      <td>fraud</td>\n",
       "    </tr>\n",
       "    <tr>\n",
       "      <th>623</th>\n",
       "      <td>472.0</td>\n",
       "      <td>529.00</td>\n",
       "      <td>fraud</td>\n",
       "    </tr>\n",
       "    <tr>\n",
       "      <th>4920</th>\n",
       "      <td>4462.0</td>\n",
       "      <td>239.93</td>\n",
       "      <td>fraud</td>\n",
       "    </tr>\n",
       "    <tr>\n",
       "      <th>6108</th>\n",
       "      <td>6986.0</td>\n",
       "      <td>59.00</td>\n",
       "      <td>fraud</td>\n",
       "    </tr>\n",
       "    <tr>\n",
       "      <th>6329</th>\n",
       "      <td>7519.0</td>\n",
       "      <td>1.00</td>\n",
       "      <td>fraud</td>\n",
       "    </tr>\n",
       "  </tbody>\n",
       "</table>\n",
       "</div>"
      ],
      "text/plain": [
       "        Time  Amount  Class\n",
       "541    406.0    0.00  fraud\n",
       "623    472.0  529.00  fraud\n",
       "4920  4462.0  239.93  fraud\n",
       "6108  6986.0   59.00  fraud\n",
       "6329  7519.0    1.00  fraud"
      ]
     },
     "execution_count": 16,
     "metadata": {
      "tags": []
     },
     "output_type": "execute_result"
    }
   ],
   "source": [
    "credit_card_data_subset_class_fraud.head()"
   ]
  },
  {
   "cell_type": "code",
   "execution_count": 17,
   "metadata": {
    "collapsed": true,
    "id": "4fIRYiWFxNjn"
   },
   "outputs": [],
   "source": [
    "credit_card_data_subset_class_legitimate = credit_card_data_subset[credit_card_data_subset['Class'] == 'legitimate']"
   ]
  },
  {
   "cell_type": "code",
   "execution_count": 18,
   "metadata": {
    "colab": {
     "base_uri": "https://localhost:8080/"
    },
    "collapsed": true,
    "id": "R1C5J6-txNjn",
    "outputId": "8aebc3d9-e339-4f1c-e298-438b7d2a431c"
   },
   "outputs": [
    {
     "data": {
      "text/plain": [
       "(284315, 3)"
      ]
     },
     "execution_count": 18,
     "metadata": {
      "tags": []
     },
     "output_type": "execute_result"
    }
   ],
   "source": [
    "credit_card_data_subset_class_legitimate.shape"
   ]
  },
  {
   "cell_type": "code",
   "execution_count": 19,
   "metadata": {
    "colab": {
     "base_uri": "https://localhost:8080/",
     "height": 197
    },
    "collapsed": true,
    "id": "HaKNo3-qxNjo",
    "outputId": "cd976169-06fc-4938-d37d-77cebadaa47e"
   },
   "outputs": [
    {
     "data": {
      "text/html": [
       "<div>\n",
       "<style scoped>\n",
       "    .dataframe tbody tr th:only-of-type {\n",
       "        vertical-align: middle;\n",
       "    }\n",
       "\n",
       "    .dataframe tbody tr th {\n",
       "        vertical-align: top;\n",
       "    }\n",
       "\n",
       "    .dataframe thead th {\n",
       "        text-align: right;\n",
       "    }\n",
       "</style>\n",
       "<table border=\"1\" class=\"dataframe\">\n",
       "  <thead>\n",
       "    <tr style=\"text-align: right;\">\n",
       "      <th></th>\n",
       "      <th>Time</th>\n",
       "      <th>Amount</th>\n",
       "      <th>Class</th>\n",
       "    </tr>\n",
       "  </thead>\n",
       "  <tbody>\n",
       "    <tr>\n",
       "      <th>0</th>\n",
       "      <td>0.0</td>\n",
       "      <td>149.62</td>\n",
       "      <td>legitimate</td>\n",
       "    </tr>\n",
       "    <tr>\n",
       "      <th>1</th>\n",
       "      <td>0.0</td>\n",
       "      <td>2.69</td>\n",
       "      <td>legitimate</td>\n",
       "    </tr>\n",
       "    <tr>\n",
       "      <th>2</th>\n",
       "      <td>1.0</td>\n",
       "      <td>378.66</td>\n",
       "      <td>legitimate</td>\n",
       "    </tr>\n",
       "    <tr>\n",
       "      <th>3</th>\n",
       "      <td>1.0</td>\n",
       "      <td>123.50</td>\n",
       "      <td>legitimate</td>\n",
       "    </tr>\n",
       "    <tr>\n",
       "      <th>4</th>\n",
       "      <td>2.0</td>\n",
       "      <td>69.99</td>\n",
       "      <td>legitimate</td>\n",
       "    </tr>\n",
       "  </tbody>\n",
       "</table>\n",
       "</div>"
      ],
      "text/plain": [
       "   Time  Amount       Class\n",
       "0   0.0  149.62  legitimate\n",
       "1   0.0    2.69  legitimate\n",
       "2   1.0  378.66  legitimate\n",
       "3   1.0  123.50  legitimate\n",
       "4   2.0   69.99  legitimate"
      ]
     },
     "execution_count": 19,
     "metadata": {
      "tags": []
     },
     "output_type": "execute_result"
    }
   ],
   "source": [
    "credit_card_data_subset_class_legitimate.head()"
   ]
  },
  {
   "cell_type": "markdown",
   "metadata": {
    "id": "Cl_WkIuHxNjo"
   },
   "source": [
    "### Univariate Analysis on feature 'Amount'"
   ]
  },
  {
   "cell_type": "markdown",
   "metadata": {
    "id": "oHztlyaNxNjo"
   },
   "source": [
    "### Plotting **CDF(Cumulative Distributive Function)** and **PDF(Probability Density Function)** to analyze more about the data"
   ]
  },
  {
   "cell_type": "code",
   "execution_count": 20,
   "metadata": {
    "colab": {
     "base_uri": "https://localhost:8080/",
     "height": 294
    },
    "collapsed": true,
    "id": "seuiwYl0xNjo",
    "outputId": "14ebeb49-b8ec-45e0-ca66-f11233eb7525"
   },
   "outputs": [
    {
     "data": {
      "image/png": "[encoded data removed]",
      "text/plain": [
       "<Figure size 432x288 with 1 Axes>"
      ]
     },
     "metadata": {
      "needs_background": "light",
      "tags": []
     },
     "output_type": "display_data"
    }
   ],
   "source": [
    "count,bin_edges = np.histogram(credit_card_data_subset_class_legitimate['Amount'],bins = 20,density = True)\n",
    "PDF = count/sum(count)\n",
    "#print(\"PDF : \",PDF)\n",
    "#print(\"\\nbin edges : \" , bin_edges)\n",
    "#computing CDF with help of PDF \n",
    "CDF = np.cumsum(PDF)\n",
    "#plotting PDF,CDF\n",
    "plt.plot(bin_edges[1:],PDF,label = \"PDF ---- legitimate\")\n",
    "plt.plot(bin_edges[1:],CDF,label = \"CDF ---- legitimate\")\n",
    "\n",
    "count,bin_edges = np.histogram(credit_card_data_subset_class_fraud['Amount'],bins = 20,density = True)\n",
    "PDF = count/sum(count)\n",
    "#computing CDF with help of PDF \n",
    "CDF = np.cumsum(PDF)\n",
    "#plotting PDF,CDF\n",
    "plt.plot(bin_edges[1:],PDF,label = \"PDF ---- Fraud\")\n",
    "plt.plot(bin_edges[1:],CDF,label = \"CDF ---- Fraud\")\n",
    "\n",
    "plt.xlabel(\"Amount\")\n",
    "plt.ylabel(\"Probability\")\n",
    "plt.title(\"Plot of PDF and CDF for feature 'Amount' \")\n",
    "plt.legend()\n",
    "plt.show()"
   ]
  },
  {
   "cell_type": "markdown",
   "metadata": {
    "id": "gEt5WSSfxNjp"
   },
   "source": [
    "**Observation and Conclusion **\n",
    "\n",
    "1.From the above plot we can observe that there is slight overlap between CDF's of both classes\n",
    "\n",
    "2.But , we can make an observation that more than **95% of fraud transactions** have **purchase Amount below 2500** approximately.\n",
    "\n",
    "3.From that we can conclude that if the amount of purchase is below 2500 it is more likely to be a fraud transaction else can be classified as a legitimate "
   ]
  },
  {
   "cell_type": "markdown",
   "metadata": {
    "id": "9STLxIjnxNjp"
   },
   "source": [
    "### Box plot and whiskers"
   ]
  },
  {
   "cell_type": "code",
   "execution_count": 21,
   "metadata": {
    "colab": {
     "base_uri": "https://localhost:8080/",
     "height": 296
    },
    "collapsed": true,
    "id": "Onv2yz3PxNjp",
    "outputId": "18f7a559-32a6-4bc2-ead7-fa4eff3ec381"
   },
   "outputs": [
    {
     "data": {
      "text/plain": [
       "<matplotlib.axes._subplots.AxesSubplot at 0x7f57d9e91210>"
      ]
     },
     "execution_count": 21,
     "metadata": {
      "tags": []
     },
     "output_type": "execute_result"
    },
    {
     "data": {
      "image/png": "[encoded data removed]",
      "text/plain": [
       "<Figure size 432x288 with 1 Axes>"
      ]
     },
     "metadata": {
      "needs_background": "light",
      "tags": []
     },
     "output_type": "display_data"
    }
   ],
   "source": [
    "sns.boxplot(data = credit_card_data_subset,x='Class',y='Amount')"
   ]
  },
  {
   "cell_type": "markdown",
   "metadata": {
    "id": "9ge6uuTOxNjq"
   },
   "source": [
    "### Violin plot"
   ]
  },
  {
   "cell_type": "code",
   "execution_count": 22,
   "metadata": {
    "colab": {
     "base_uri": "https://localhost:8080/",
     "height": 296
    },
    "collapsed": true,
    "id": "79axMFpTxNjq",
    "outputId": "155dc42a-f123-4c3c-8196-42f068c0f17b"
   },
   "outputs": [
    {
     "data": {
      "text/plain": [
       "<matplotlib.axes._subplots.AxesSubplot at 0x7f57dbf34350>"
      ]
     },
     "execution_count": 22,
     "metadata": {
      "tags": []
     },
     "output_type": "execute_result"
    },
    {
     "data": {
      "image/png": "[encoded data removed]",
      "text/plain": [
       "<Figure size 432x288 with 1 Axes>"
      ]
     },
     "metadata": {
      "needs_background": "light",
      "tags": []
     },
     "output_type": "display_data"
    }
   ],
   "source": [
    "sns.violinplot(data= credit_card_data_subset,x='Class',y='Amount')"
   ]
  },
  {
   "cell_type": "markdown",
   "metadata": {
    "id": "8PAzqjDkxNjq"
   },
   "source": [
    "**Observation:**\n",
    "    \n",
    "These both plots(Box plots as well as Violin plots) are difficult to analyze when compared to PDF and CDF as the data is imbalanced,huge dataset and also scale is not so clear."
   ]
  },
  {
   "cell_type": "markdown",
   "metadata": {
    "id": "m6dzoTjkxNjq"
   },
   "source": [
    "## Task 2 : Finding the least values of similarities \n",
    "Task 2: Sample (S) 100 transactions from whole data (D), for every transaction in S, print 10 transactions from D which have least values of 'similarity'\n",
    "\n"
   ]
  },
  {
   "cell_type": "code",
   "execution_count": 23,
   "metadata": {
    "collapsed": true,
    "id": "Dj5B7FWOxNjq"
   },
   "outputs": [],
   "source": [
    "#creating a sample of 100 values from Data , \n",
    "#sample will not have 'Class' feature in it because for comparison we don't need 'Class' feature.\n",
    "credit_card_data_sample = credit_card_data[credit_card_data.columns[:-1]].sample(100)"
   ]
  },
  {
   "cell_type": "code",
   "execution_count": 24,
   "metadata": {
    "colab": {
     "base_uri": "https://localhost:8080/"
    },
    "collapsed": true,
    "id": "yjAUJ1W3xNjr",
    "outputId": "155db670-e41a-4cf4-d102-feac537f8d93"
   },
   "outputs": [
    {
     "data": {
      "text/plain": [
       "Int64Index([ 13313, 145557, 270748, 277529, 164076,  71679, 227681,  33231,\n",
       "            118522, 215622, 162306, 152509, 120380, 229662,  26714, 238826,\n",
       "            185862, 224507, 237309,  31108,  50557, 187567, 126289,  63528,\n",
       "            147182, 228813,  66625, 104881, 222493, 148255,  35376, 193712,\n",
       "            184156, 137428, 251046, 154476, 168374,  11345, 168873, 260699,\n",
       "              4415, 125187, 160148, 217252, 128692, 206135, 171143,  53695,\n",
       "            160725, 117869, 146791,  43565, 263978, 250545, 156431, 187936,\n",
       "             58450, 206789,  13832,  12183, 139817,  59106, 243585,  87564,\n",
       "            242443, 259140,  98117,  10365, 269717, 244501,  39157, 263971,\n",
       "            201909, 105284,  76813,  18681, 181753, 151035, 247783, 177186,\n",
       "            220553, 245593, 148220, 102418, 255638,  31508, 242831, 156729,\n",
       "            283751, 261269, 172033,  24725, 214318, 204172,  75407, 221239,\n",
       "            201492,  61014, 124409,  39893],\n",
       "           dtype='int64')"
      ]
     },
     "execution_count": 24,
     "metadata": {
      "tags": []
     },
     "output_type": "execute_result"
    }
   ],
   "source": [
    "#indexes of all the samples (100 samples)\n",
    "credit_card_data_sample.index"
   ]
  },
  {
   "cell_type": "code",
   "execution_count": 25,
   "metadata": {
    "colab": {
     "base_uri": "https://localhost:8080/",
     "height": 217
    },
    "collapsed": true,
    "id": "nZFJxHBlxNjr",
    "outputId": "1a82298b-ca87-4f9a-b31e-cf4ca9dd1512"
   },
   "outputs": [
    {
     "data": {
      "text/html": [
       "<div>\n",
       "<style scoped>\n",
       "    .dataframe tbody tr th:only-of-type {\n",
       "        vertical-align: middle;\n",
       "    }\n",
       "\n",
       "    .dataframe tbody tr th {\n",
       "        vertical-align: top;\n",
       "    }\n",
       "\n",
       "    .dataframe thead th {\n",
       "        text-align: right;\n",
       "    }\n",
       "</style>\n",
       "<table border=\"1\" class=\"dataframe\">\n",
       "  <thead>\n",
       "    <tr style=\"text-align: right;\">\n",
       "      <th></th>\n",
       "      <th>Time</th>\n",
       "      <th>V1</th>\n",
       "      <th>V2</th>\n",
       "      <th>V3</th>\n",
       "      <th>V4</th>\n",
       "      <th>V5</th>\n",
       "      <th>V6</th>\n",
       "      <th>V7</th>\n",
       "      <th>V8</th>\n",
       "      <th>V9</th>\n",
       "      <th>V10</th>\n",
       "      <th>V11</th>\n",
       "      <th>V12</th>\n",
       "      <th>V13</th>\n",
       "      <th>V14</th>\n",
       "      <th>V15</th>\n",
       "      <th>V16</th>\n",
       "      <th>V17</th>\n",
       "      <th>V18</th>\n",
       "      <th>V19</th>\n",
       "      <th>V20</th>\n",
       "      <th>V21</th>\n",
       "      <th>V22</th>\n",
       "      <th>V23</th>\n",
       "      <th>V24</th>\n",
       "      <th>V25</th>\n",
       "      <th>V26</th>\n",
       "      <th>V27</th>\n",
       "      <th>V28</th>\n",
       "      <th>Amount</th>\n",
       "    </tr>\n",
       "  </thead>\n",
       "  <tbody>\n",
       "    <tr>\n",
       "      <th>13313</th>\n",
       "      <td>23471.0</td>\n",
       "      <td>0.799441</td>\n",
       "      <td>0.000477</td>\n",
       "      <td>1.554963</td>\n",
       "      <td>2.764696</td>\n",
       "      <td>-0.098166</td>\n",
       "      <td>1.982800</td>\n",
       "      <td>-0.863931</td>\n",
       "      <td>0.595981</td>\n",
       "      <td>1.189037</td>\n",
       "      <td>-0.045064</td>\n",
       "      <td>1.389566</td>\n",
       "      <td>-1.817905</td>\n",
       "      <td>1.927719</td>\n",
       "      <td>1.216261</td>\n",
       "      <td>0.442147</td>\n",
       "      <td>-0.611546</td>\n",
       "      <td>1.466357</td>\n",
       "      <td>-1.730405</td>\n",
       "      <td>-2.964475</td>\n",
       "      <td>-0.188131</td>\n",
       "      <td>0.137927</td>\n",
       "      <td>0.777529</td>\n",
       "      <td>0.071821</td>\n",
       "      <td>-0.676590</td>\n",
       "      <td>-0.001926</td>\n",
       "      <td>0.168729</td>\n",
       "      <td>0.073464</td>\n",
       "      <td>0.028406</td>\n",
       "      <td>67.70</td>\n",
       "    </tr>\n",
       "    <tr>\n",
       "      <th>145557</th>\n",
       "      <td>87049.0</td>\n",
       "      <td>1.989187</td>\n",
       "      <td>-2.003292</td>\n",
       "      <td>-0.260944</td>\n",
       "      <td>-1.269068</td>\n",
       "      <td>-1.750711</td>\n",
       "      <td>0.221554</td>\n",
       "      <td>-1.537524</td>\n",
       "      <td>0.046073</td>\n",
       "      <td>-0.507921</td>\n",
       "      <td>1.259050</td>\n",
       "      <td>-1.279381</td>\n",
       "      <td>-0.088885</td>\n",
       "      <td>1.168040</td>\n",
       "      <td>-1.232182</td>\n",
       "      <td>-1.078216</td>\n",
       "      <td>-0.710499</td>\n",
       "      <td>0.739217</td>\n",
       "      <td>-0.367819</td>\n",
       "      <td>0.067718</td>\n",
       "      <td>-0.129755</td>\n",
       "      <td>-0.321523</td>\n",
       "      <td>-0.512279</td>\n",
       "      <td>0.317655</td>\n",
       "      <td>0.660231</td>\n",
       "      <td>-0.516737</td>\n",
       "      <td>-0.408404</td>\n",
       "      <td>0.044020</td>\n",
       "      <td>-0.005164</td>\n",
       "      <td>137.95</td>\n",
       "    </tr>\n",
       "    <tr>\n",
       "      <th>270748</th>\n",
       "      <td>164238.0</td>\n",
       "      <td>2.012306</td>\n",
       "      <td>0.101479</td>\n",
       "      <td>-1.609569</td>\n",
       "      <td>0.336055</td>\n",
       "      <td>0.412670</td>\n",
       "      <td>-0.575526</td>\n",
       "      <td>0.066015</td>\n",
       "      <td>-0.070916</td>\n",
       "      <td>0.231020</td>\n",
       "      <td>-0.215648</td>\n",
       "      <td>1.329220</td>\n",
       "      <td>0.877681</td>\n",
       "      <td>-0.124147</td>\n",
       "      <td>-0.618018</td>\n",
       "      <td>-0.453503</td>\n",
       "      <td>0.405313</td>\n",
       "      <td>0.347865</td>\n",
       "      <td>0.048767</td>\n",
       "      <td>0.204005</td>\n",
       "      <td>-0.163092</td>\n",
       "      <td>-0.296625</td>\n",
       "      <td>-0.780851</td>\n",
       "      <td>0.357734</td>\n",
       "      <td>0.608348</td>\n",
       "      <td>-0.329090</td>\n",
       "      <td>0.148578</td>\n",
       "      <td>-0.063391</td>\n",
       "      <td>-0.039679</td>\n",
       "      <td>0.89</td>\n",
       "    </tr>\n",
       "    <tr>\n",
       "      <th>277529</th>\n",
       "      <td>167696.0</td>\n",
       "      <td>-0.401019</td>\n",
       "      <td>1.267808</td>\n",
       "      <td>-1.026141</td>\n",
       "      <td>-1.083132</td>\n",
       "      <td>0.724874</td>\n",
       "      <td>-1.491504</td>\n",
       "      <td>1.197728</td>\n",
       "      <td>0.130875</td>\n",
       "      <td>-0.708381</td>\n",
       "      <td>-0.512190</td>\n",
       "      <td>0.624808</td>\n",
       "      <td>0.328188</td>\n",
       "      <td>-1.174690</td>\n",
       "      <td>1.414789</td>\n",
       "      <td>-0.786444</td>\n",
       "      <td>-0.393268</td>\n",
       "      <td>-0.345628</td>\n",
       "      <td>0.134955</td>\n",
       "      <td>0.051960</td>\n",
       "      <td>-0.250927</td>\n",
       "      <td>0.339205</td>\n",
       "      <td>0.999490</td>\n",
       "      <td>-0.187500</td>\n",
       "      <td>0.048504</td>\n",
       "      <td>-0.371521</td>\n",
       "      <td>0.073989</td>\n",
       "      <td>0.265244</td>\n",
       "      <td>0.195032</td>\n",
       "      <td>0.77</td>\n",
       "    </tr>\n",
       "    <tr>\n",
       "      <th>164076</th>\n",
       "      <td>116429.0</td>\n",
       "      <td>2.041446</td>\n",
       "      <td>0.109023</td>\n",
       "      <td>-1.786224</td>\n",
       "      <td>0.395923</td>\n",
       "      <td>0.504154</td>\n",
       "      <td>-0.773951</td>\n",
       "      <td>0.240085</td>\n",
       "      <td>-0.255229</td>\n",
       "      <td>0.441668</td>\n",
       "      <td>-0.400458</td>\n",
       "      <td>-0.639357</td>\n",
       "      <td>0.307821</td>\n",
       "      <td>0.494122</td>\n",
       "      <td>-0.927788</td>\n",
       "      <td>0.175867</td>\n",
       "      <td>0.346379</td>\n",
       "      <td>0.394592</td>\n",
       "      <td>-0.300804</td>\n",
       "      <td>0.101683</td>\n",
       "      <td>-0.078072</td>\n",
       "      <td>-0.356246</td>\n",
       "      <td>-0.953082</td>\n",
       "      <td>0.295231</td>\n",
       "      <td>0.391014</td>\n",
       "      <td>-0.232302</td>\n",
       "      <td>0.177535</td>\n",
       "      <td>-0.064687</td>\n",
       "      <td>-0.027137</td>\n",
       "      <td>24.99</td>\n",
       "    </tr>\n",
       "  </tbody>\n",
       "</table>\n",
       "</div>"
      ],
      "text/plain": [
       "            Time        V1        V2  ...       V27       V28  Amount\n",
       "13313    23471.0  0.799441  0.000477  ...  0.073464  0.028406   67.70\n",
       "145557   87049.0  1.989187 -2.003292  ...  0.044020 -0.005164  137.95\n",
       "270748  164238.0  2.012306  0.101479  ... -0.063391 -0.039679    0.89\n",
       "277529  167696.0 -0.401019  1.267808  ...  0.265244  0.195032    0.77\n",
       "164076  116429.0  2.041446  0.109023  ... -0.064687 -0.027137   24.99\n",
       "\n",
       "[5 rows x 30 columns]"
      ]
     },
     "execution_count": 25,
     "metadata": {
      "tags": []
     },
     "output_type": "execute_result"
    }
   ],
   "source": [
    "credit_card_data_sample.head()"
   ]
  },
  {
   "cell_type": "code",
   "execution_count": 26,
   "metadata": {
    "collapsed": true,
    "id": "py_cplkNxNjr"
   },
   "outputs": [],
   "source": [
    "#removing class for credit_card_data also.\n",
    "credit_card_data_without_label = credit_card_data[credit_card_data.columns[:-1]]"
   ]
  },
  {
   "cell_type": "code",
   "execution_count": 27,
   "metadata": {
    "colab": {
     "base_uri": "https://localhost:8080/"
    },
    "collapsed": true,
    "id": "B-heYxsMxNjr",
    "outputId": "506a20ad-98fe-452d-f9a5-0dd1475323e2"
   },
   "outputs": [
    {
     "data": {
      "text/plain": [
       "(284807, 30)"
      ]
     },
     "execution_count": 27,
     "metadata": {
      "tags": []
     },
     "output_type": "execute_result"
    }
   ],
   "source": [
    "credit_card_data_without_label.shape"
   ]
  },
  {
   "cell_type": "markdown",
   "metadata": {
    "id": "u4gb_on8xNjr"
   },
   "source": [
    "#### Create a function called similarity to check for the similarity and return least 10 transactions:\n"
   ]
  },
  {
   "cell_type": "code",
   "execution_count": 28,
   "metadata": {
    "collapsed": true,
    "id": "Uwso9PGHxNjs"
   },
   "outputs": [],
   "source": [
    "def similarity(sample, whole_data): \n",
    "    \"\"\"Returns a dataframe of top 10 least values of similarity\n",
    "    sample -- pass the one of the index of sample and\n",
    "    whole_data -- entire dataframe , as we have to compare each row in dataframe with sample.\"\"\"\n",
    "    # Your code here\n",
    "    index_value = []\n",
    "    Class = []\n",
    "    similarity_list = []\n",
    "    for i in whole_data.index:\n",
    "        similarity_value = np.arccos(np.dot(credit_card_data_sample.loc[sample],credit_card_data_without_label.loc[i])/(np.linalg.norm(credit_card_data_sample.loc[sample])*np.linalg.norm(credit_card_data_without_label.loc[i])))\n",
    "        similarity_list.append(similarity_value)\n",
    "        Class.append(credit_card_data['Class'][i])\n",
    "        index_value.append(i)\n",
    "    similarity_df = pd.DataFrame({'index_value':index_value,'similarity_value':similarity_list,'Class':Class})\n",
    "    print(f\"sample index value is {sample} \")\n",
    "    return similarity_df.sort_values('similarity_value').head(10)\n",
    "    \n"
   ]
  },
  {
   "cell_type": "code",
   "execution_count": 29,
   "metadata": {
    "colab": {
     "base_uri": "https://localhost:8080/"
    },
    "collapsed": true,
    "id": "uwYZiD3hxNjs",
    "outputId": "30ad4521-5124-4d11-8110-d0dddfc52811"
   },
   "outputs": [
    {
     "name": "stdout",
     "output_type": "stream",
     "text": [
      "Enter the one of the index value from your credit_card_data_sample : 4\n"
     ]
    }
   ],
   "source": [
    "sample_index = int(input(\"Enter the one of the index value from your credit_card_data_sample : \"))"
   ]
  },
  {
   "cell_type": "code",
   "execution_count": 30,
   "metadata": {
    "collapsed": true,
    "id": "Sk1rDV51xNjt"
   },
   "outputs": [],
   "source": [
    "# similarity(sample_index,credit_card_data_without_label)   "
   ]
  },
  {
   "cell_type": "markdown",
   "metadata": {
    "id": "MeasliX0Z4XQ"
   },
   "source": [
    "### **Task 3**"
   ]
  },
  {
   "cell_type": "code",
   "execution_count": 31,
   "metadata": {
    "collapsed": true,
    "id": "EYC7qo8JxNjt"
   },
   "outputs": [],
   "source": [
    "from sklearn.model_selection import train_test_split\n",
    "import time"
   ]
  },
  {
   "cell_type": "code",
   "execution_count": 32,
   "metadata": {
    "id": "6lFPRGk_Z7Tf"
   },
   "outputs": [],
   "source": [
    "X = credit_card_data_without_label.copy()\n",
    "y = credit_card_data['Class'].replace({'legitimate': 0, 'fraud': 1})"
   ]
  },
  {
   "cell_type": "code",
   "execution_count": 33,
   "metadata": {
    "id": "t97OxIAmZ81L"
   },
   "outputs": [],
   "source": [
    "X_train, X_test, y_train, y_test = train_test_split(X, y, test_size=0.3, random_state=0)"
   ]
  },
  {
   "cell_type": "code",
   "execution_count": 34,
   "metadata": {
    "id": "MdaecFtgaA12"
   },
   "outputs": [],
   "source": [
    "def dummy_classifier():\n",
    "  from sklearn.dummy import DummyClassifier\n",
    "  from sklearn.metrics import recall_score, accuracy_score, precision_score\n",
    "\n",
    "  dummy_majority = DummyClassifier(strategy='most_frequent').fit(X_train, y_train)\n",
    "  y_dummy_predictions = dummy_majority.predict(X_test)\n",
    "\n",
    "  ans = (accuracy_score(y_test, y_dummy_predictions), recall_score(y_test, y_dummy_predictions), precision_score(y_test, y_dummy_predictions))\n",
    "  return ans\n",
    "\n",
    "start = time.time()\n",
    "dc = dummy_classifier()\n",
    "end = time.time()\n",
    "dc_time = end - start"
   ]
  },
  {
   "cell_type": "code",
   "execution_count": 35,
   "metadata": {
    "id": "a2NnxQGGaM_U"
   },
   "outputs": [],
   "source": [
    "def svc():\n",
    "  from sklearn.metrics import recall_score, precision_score, accuracy_score\n",
    "  from sklearn.svm import SVC\n",
    "\n",
    "  svm = SVC().fit(X_train, y_train)\n",
    "  y_predictions = svm.predict(X_test)\n",
    "\n",
    "  ans = (accuracy_score(y_test, y_predictions), recall_score(y_test, y_predictions), precision_score(y_test, y_predictions))\n",
    "  return ans\n",
    "\n",
    "\n",
    "start = time.time()\n",
    "svc = svc()\n",
    "end = time.time()\n",
    "svc_time = end - start\n"
   ]
  },
  {
   "cell_type": "code",
   "execution_count": 36,
   "metadata": {
    "id": "xsch6t5raYO9"
   },
   "outputs": [],
   "source": [
    "def decision_tree():\n",
    "  from sklearn.metrics import recall_score, precision_score, accuracy_score\n",
    "  from sklearn.tree import DecisionTreeClassifier\n",
    "\n",
    "  dtc = DecisionTreeClassifier().fit(X_train, y_train)\n",
    "  y_predictions = dtc.predict(X_test)\n",
    "\n",
    "  ans = (accuracy_score(y_test, y_predictions), recall_score(y_test, y_predictions), precision_score(y_test, y_predictions))\n",
    "  return ans\n",
    "\n",
    "\n",
    "start = time.time()\n",
    "dt = decision_tree()\n",
    "end = time.time()\n",
    "dt_time = end - start"
   ]
  },
  {
   "cell_type": "code",
   "execution_count": 37,
   "metadata": {
    "id": "Ad2Lygjna3B9"
   },
   "outputs": [],
   "source": [
    "def knn():\n",
    "  from sklearn.metrics import recall_score, precision_score, accuracy_score\n",
    "  from sklearn.neighbors import KNeighborsClassifier\n",
    "\n",
    "  knn = KNeighborsClassifier().fit(X_train, y_train)\n",
    "  y_predictions = knn.predict(X_test)\n",
    "\n",
    "  ans = (accuracy_score(y_test, y_predictions), recall_score(y_test, y_predictions), precision_score(y_test, y_predictions))\n",
    "  return ans\n",
    "\n",
    "\n",
    "start = time.time()\n",
    "knn = knn()\n",
    "end = time.time()\n",
    "knn_time = end - start\n"
   ]
  },
  {
   "cell_type": "code",
   "execution_count": 38,
   "metadata": {
    "id": "-BkFw1gia9nE"
   },
   "outputs": [],
   "source": [
    "def logistic_regression():\n",
    "  from sklearn.metrics import recall_score, precision_score, accuracy_score\n",
    "  from sklearn.linear_model import LogisticRegression\n",
    "  clf = LogisticRegression(random_state=0).fit(X_train, y_train)\n",
    "  y_pred = clf.predict(X_test)\n",
    "\n",
    "  ans = (accuracy_score(y_test, y_pred), recall_score(y_test, y_pred), precision_score(y_test, y_pred))\n",
    "  return ans\n",
    "\n",
    "\n",
    "start = time.time()\n",
    "lr = logistic_regression()\n",
    "end = time.time()\n",
    "lr_time = end - start"
   ]
  },
  {
   "cell_type": "code",
   "execution_count": 39,
   "metadata": {
    "id": "D6Z1fQjibMk8"
   },
   "outputs": [],
   "source": [
    "result = {\n",
    "    \"Model\": [\"Dummy Classifier\", \"SVC\", \"Descision Tree\", \"KNN\", \"Logistic Regression\"],\n",
    "    \"Accuracy Score\": [dc[0], svc[0], dt[0], knn[0], lr[0]],\n",
    "    \"Recall Score\": [dc[1], svc[1], dt[1], knn[1], lr[1]],\n",
    "    \"Precision Score\": [dc[2], svc[2], dt[2], knn[2], lr[2]],\n",
    "    \"Runtime\": [dc_time, svc_time, dt_time, knn_time, lr_time]\n",
    "}"
   ]
  },
  {
   "cell_type": "markdown",
   "metadata": {
    "id": "v-lQIlB2nDUI"
   },
   "source": [
    "### **Observations and Conclusion**"
   ]
  },
  {
   "cell_type": "code",
   "execution_count": 40,
   "metadata": {
    "colab": {
     "base_uri": "https://localhost:8080/",
     "height": 197
    },
    "id": "Ft1D1rNNnHGD",
    "outputId": "74fa1820-830b-4f84-a2e7-20a74ade9445"
   },
   "outputs": [
    {
     "data": {
      "text/html": [
       "<div>\n",
       "<style scoped>\n",
       "    .dataframe tbody tr th:only-of-type {\n",
       "        vertical-align: middle;\n",
       "    }\n",
       "\n",
       "    .dataframe tbody tr th {\n",
       "        vertical-align: top;\n",
       "    }\n",
       "\n",
       "    .dataframe thead th {\n",
       "        text-align: right;\n",
       "    }\n",
       "</style>\n",
       "<table border=\"1\" class=\"dataframe\">\n",
       "  <thead>\n",
       "    <tr style=\"text-align: right;\">\n",
       "      <th></th>\n",
       "      <th>Model</th>\n",
       "      <th>Accuracy Score</th>\n",
       "      <th>Recall Score</th>\n",
       "      <th>Precision Score</th>\n",
       "      <th>Runtime</th>\n",
       "    </tr>\n",
       "  </thead>\n",
       "  <tbody>\n",
       "    <tr>\n",
       "      <th>0</th>\n",
       "      <td>Dummy Classifier</td>\n",
       "      <td>0.998280</td>\n",
       "      <td>0.000000</td>\n",
       "      <td>0.000000</td>\n",
       "      <td>0.049786</td>\n",
       "    </tr>\n",
       "    <tr>\n",
       "      <th>1</th>\n",
       "      <td>SVC</td>\n",
       "      <td>0.998280</td>\n",
       "      <td>0.000000</td>\n",
       "      <td>0.000000</td>\n",
       "      <td>13.779455</td>\n",
       "    </tr>\n",
       "    <tr>\n",
       "      <th>2</th>\n",
       "      <td>Descision Tree</td>\n",
       "      <td>0.999286</td>\n",
       "      <td>0.755102</td>\n",
       "      <td>0.816176</td>\n",
       "      <td>12.639936</td>\n",
       "    </tr>\n",
       "    <tr>\n",
       "      <th>3</th>\n",
       "      <td>KNN</td>\n",
       "      <td>0.998338</td>\n",
       "      <td>0.040816</td>\n",
       "      <td>0.857143</td>\n",
       "      <td>5.121998</td>\n",
       "    </tr>\n",
       "    <tr>\n",
       "      <th>4</th>\n",
       "      <td>Logistic Regression</td>\n",
       "      <td>0.998947</td>\n",
       "      <td>0.687075</td>\n",
       "      <td>0.696552</td>\n",
       "      <td>3.069419</td>\n",
       "    </tr>\n",
       "  </tbody>\n",
       "</table>\n",
       "</div>"
      ],
      "text/plain": [
       "                 Model  Accuracy Score  ...  Precision Score    Runtime\n",
       "0     Dummy Classifier        0.998280  ...         0.000000   0.049786\n",
       "1                  SVC        0.998280  ...         0.000000  13.779455\n",
       "2       Descision Tree        0.999286  ...         0.816176  12.639936\n",
       "3                  KNN        0.998338  ...         0.857143   5.121998\n",
       "4  Logistic Regression        0.998947  ...         0.696552   3.069419\n",
       "\n",
       "[5 rows x 5 columns]"
      ]
     },
     "execution_count": 40,
     "metadata": {
      "tags": []
     },
     "output_type": "execute_result"
    }
   ],
   "source": [
    "pd.DataFrame(result)"
   ]
  }
 ],
 "metadata": {
  "accelerator": "GPU",
  "colab": {
   "collapsed_sections": [],
   "name": "EDA-MachineLearning.ipynb",
   "provenance": [],
   "toc_visible": true
  },
  "kernelspec": {
   "display_name": "Python 3",
   "language": "python",
   "name": "python3"
  },
  "language_info": {
   "codemirror_mode": {
    "name": "ipython",
    "version": 3
   },
   "file_extension": ".py",
   "mimetype": "text/x-python",
   "name": "python",
   "nbconvert_exporter": "python",
   "pygments_lexer": "ipython3",
   "version": "3.7.4"
  }
 },
 "nbformat": 4,
 "nbformat_minor": 1
}
